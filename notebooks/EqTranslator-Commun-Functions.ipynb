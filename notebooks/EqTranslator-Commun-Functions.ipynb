{
 "cells": [
  {
   "cell_type": "code",
   "execution_count": 12,
   "metadata": {},
   "outputs": [],
   "source": [
    "import sys\n",
    "sys.path.append('/home/naysan/my-notebooks/holidays/winter22-23/eqTranslator')\n",
    "\n",
    "import math\n",
    "import numpy as np\n",
    "\n",
    "from eqTranslator import Expression"
   ]
  },
  {
   "cell_type": "markdown",
   "metadata": {},
   "source": [
    "### Constant Functions"
   ]
  },
  {
   "cell_type": "code",
   "execution_count": 13,
   "metadata": {},
   "outputs": [
    {
     "name": "stdout",
     "output_type": "stream",
     "text": [
      "is constant = True, log = {'a': -3.0, 'log': 'horizontal line through (0, -3)'}\n",
      "last operation is =(y;minus(0;3))\n",
      "\n",
      "=\n",
      "├── -\n",
      "│   ├── 0\n",
      "│   └── 3\n",
      "└── y\n",
      "\n"
     ]
    }
   ],
   "source": [
    "eq = Expression('y=-3')\n",
    "eq.print_tree()"
   ]
  },
  {
   "cell_type": "code",
   "execution_count": 14,
   "metadata": {},
   "outputs": [
    {
     "name": "stdout",
     "output_type": "stream",
     "text": [
      "is constant = True, log = {'a': 3.0, 'log': 'vertical line through (3, 0)'}\n",
      "last operation is =(x;3)\n",
      "\n",
      "=\n",
      "├── 3\n",
      "└── x\n",
      "\n"
     ]
    }
   ],
   "source": [
    "eq = Expression('x=3')\n",
    "eq.print_tree()"
   ]
  },
  {
   "cell_type": "code",
   "execution_count": 15,
   "metadata": {},
   "outputs": [
    {
     "name": "stdout",
     "output_type": "stream",
     "text": [
      "is constant = True, log = {'a': -8.5, 'log': 'constant function z = -17/2'}\n",
      "last operation is =(z;minus(0;8.5))\n",
      "\n",
      "=\n",
      "├── -\n",
      "│   ├── 0\n",
      "│   └── 8.5\n",
      "└── z\n",
      "\n"
     ]
    }
   ],
   "source": [
    "eq = Expression('z=-8.5')\n",
    "eq.print_tree()"
   ]
  },
  {
   "cell_type": "markdown",
   "metadata": {},
   "source": [
    "### Linear Functions"
   ]
  },
  {
   "cell_type": "code",
   "execution_count": 16,
   "metadata": {},
   "outputs": [
    {
     "name": "stdout",
     "output_type": "stream",
     "text": [
      "last operation is =(y;plus(mult(2;x);1))\n",
      "\n",
      "=\n",
      "├── +\n",
      "│   ├── *\n",
      "│   │   ├── 2\n",
      "│   │   └── x\n",
      "│   └── 1\n",
      "└── y\n",
      "\n"
     ]
    }
   ],
   "source": [
    "eq = Expression('y=2x+1')\n",
    "eq.print_tree()"
   ]
  },
  {
   "cell_type": "code",
   "execution_count": 6,
   "metadata": {},
   "outputs": [
    {
     "name": "stdout",
     "output_type": "stream",
     "text": [
      "last operation is =(y;minus(div(x;4);1))\n",
      "\n",
      "=\n",
      "├── -\n",
      "│   ├── /\n",
      "│   │   ├── 4\n",
      "│   │   └── x\n",
      "│   └── 1\n",
      "└── y\n",
      "\n"
     ]
    }
   ],
   "source": [
    "eq = Expression('y=x/4-1')\n",
    "eq.print_tree()"
   ]
  },
  {
   "cell_type": "code",
   "execution_count": 7,
   "metadata": {},
   "outputs": [
    {
     "name": "stdout",
     "output_type": "stream",
     "text": [
      "last operation is =(y;plus(minus(0;x);5))\n",
      "\n",
      "=\n",
      "├── +\n",
      "│   ├── -\n",
      "│   │   ├── 0\n",
      "│   │   └── x\n",
      "│   └── 5\n",
      "└── y\n",
      "\n"
     ]
    }
   ],
   "source": [
    "eq = Expression('y=-x+5')\n",
    "eq.print_tree()"
   ]
  },
  {
   "cell_type": "code",
   "execution_count": 10,
   "metadata": {},
   "outputs": [
    {
     "name": "stdout",
     "output_type": "stream",
     "text": [
      "last operation is =(y;div(minus(0;x);2))\n",
      "\n",
      "=\n",
      "├── /\n",
      "│   ├── -\n",
      "│   │   ├── 0\n",
      "│   │   └── x\n",
      "│   └── 2\n",
      "└── y\n",
      "\n"
     ]
    }
   ],
   "source": [
    "eq = Expression('y=-x/2')\n",
    "eq.print_tree()"
   ]
  },
  {
   "cell_type": "code",
   "execution_count": 11,
   "metadata": {},
   "outputs": [
    {
     "name": "stdout",
     "output_type": "stream",
     "text": [
      "last operation is =(y;minus(x;14))\n",
      "\n",
      "=\n",
      "├── -\n",
      "│   ├── 14\n",
      "│   └── x\n",
      "└── y\n",
      "\n"
     ]
    }
   ],
   "source": [
    "eq = Expression('y=x-14')\n",
    "eq.print_tree()"
   ]
  },
  {
   "cell_type": "markdown",
   "metadata": {},
   "source": [
    "### Quadratic"
   ]
  },
  {
   "cell_type": "code",
   "execution_count": 10,
   "metadata": {},
   "outputs": [
    {
     "name": "stdout",
     "output_type": "stream",
     "text": [
      "last operation is =(plus(mult(4;x);mult(5;y));15)\n",
      "\n",
      "=\n",
      "├── +\n",
      "│   ├── *\n",
      "│   │   ├── 4\n",
      "│   │   └── x\n",
      "│   └── *\n",
      "│       ├── 5\n",
      "│       └── y\n",
      "└── 15\n",
      "\n"
     ]
    }
   ],
   "source": [
    "eq = Expression('4x + 5*y=15')\n",
    "\n",
    "eq.print_tree()"
   ]
  },
  {
   "cell_type": "code",
   "execution_count": 11,
   "metadata": {},
   "outputs": [
    {
     "name": "stdout",
     "output_type": "stream",
     "text": [
      "All variables are needed for evaluation: {'x', 'y'}\n"
     ]
    }
   ],
   "source": [
    "eq.evaluate(x=0)"
   ]
  },
  {
   "cell_type": "code",
   "execution_count": 12,
   "metadata": {},
   "outputs": [
    {
     "name": "stdout",
     "output_type": "stream",
     "text": [
      "last operation is +(mult(4;x);mult(5;pi))\n",
      "\n",
      "+\n",
      "├── *\n",
      "│   ├── 4\n",
      "│   └── x\n",
      "└── *\n",
      "    ├── 5\n",
      "    └── pi\n",
      "\n"
     ]
    }
   ],
   "source": [
    "eq = Expression('4x + 5pi')\n",
    "\n",
    "eq.print_tree()"
   ]
  },
  {
   "cell_type": "code",
   "execution_count": 13,
   "metadata": {},
   "outputs": [
    {
     "name": "stdout",
     "output_type": "stream",
     "text": [
      "last operation is =(plus(mult(4;x);mult(5;pi));sinus(x))\n",
      "\n",
      "=\n",
      "├── +\n",
      "│   ├── *\n",
      "│   │   ├── 4\n",
      "│   │   └── x\n",
      "│   └── *\n",
      "│       ├── 5\n",
      "│       └── pi\n",
      "└── sin\n",
      "    └── x\n",
      "\n"
     ]
    }
   ],
   "source": [
    "eq = Expression('4x + 5pi = sin(x)')\n",
    "\n",
    "eq.print_tree()"
   ]
  },
  {
   "cell_type": "code",
   "execution_count": 14,
   "metadata": {},
   "outputs": [
    {
     "name": "stdout",
     "output_type": "stream",
     "text": [
      "last operation is =(plus(mult(3;pow(x;2));mult(5;pi));sinus(x))\n",
      "\n",
      "=\n",
      "├── +\n",
      "│   ├── *\n",
      "│   │   ├── 3\n",
      "│   │   └── ^\n",
      "│   │       ├── 2\n",
      "│   │       └── x\n",
      "│   └── *\n",
      "│       ├── 5\n",
      "│       └── pi\n",
      "└── sin\n",
      "    └── x\n",
      "\n"
     ]
    }
   ],
   "source": [
    "eq = Expression('3x^2 + 5pi = sin(x)')\n",
    "\n",
    "eq.print_tree()"
   ]
  },
  {
   "cell_type": "code",
   "execution_count": 15,
   "metadata": {
    "scrolled": false
   },
   "outputs": [
    {
     "name": "stdout",
     "output_type": "stream",
     "text": [
      "last operation is =(plus(mult(3;pow(x;2));mult(5;pow(y;2)));9)\n",
      "\n",
      "=\n",
      "├── +\n",
      "│   ├── *\n",
      "│   │   ├── 3\n",
      "│   │   └── ^\n",
      "│   │       ├── 2\n",
      "│   │       └── x\n",
      "│   └── *\n",
      "│       ├── 5\n",
      "│       └── ^\n",
      "│           ├── 2\n",
      "│           └── y\n",
      "└── 9\n",
      "\n"
     ]
    }
   ],
   "source": [
    "eq = Expression('3x^2 + 5y^2 = 9')\n",
    "\n",
    "eq.print_tree()"
   ]
  },
  {
   "cell_type": "code",
   "execution_count": 16,
   "metadata": {},
   "outputs": [
    {
     "name": "stdout",
     "output_type": "stream",
     "text": [
      "last operation is =(plus(sinusus(plus(mult(2;x);mult(3;y)));mult(5;pow(y;2)));9)\n",
      "\n",
      "=\n",
      "├── +\n",
      "│   ├── *\n",
      "│   │   ├── 5\n",
      "│   │   └── ^\n",
      "│   │       ├── 2\n",
      "│   │       └── y\n",
      "│   └── sin\n",
      "│       └── +\n",
      "│           ├── *\n",
      "│           │   ├── 2\n",
      "│           │   └── x\n",
      "│           └── *\n",
      "│               ├── 3\n",
      "│               └── y\n",
      "└── 9\n",
      "\n"
     ]
    }
   ],
   "source": [
    "eq = Expression('sin(2x+3y) + 5y^2 = 9')\n",
    "\n",
    "eq.print_tree()"
   ]
  },
  {
   "cell_type": "code",
   "execution_count": 17,
   "metadata": {},
   "outputs": [
    {
     "name": "stdout",
     "output_type": "stream",
     "text": [
      "last operation is =(plus(mult(mult(3;x);y);mult(0.333;pow(y;9)));tangent(9))\n",
      "\n",
      "=\n",
      "├── +\n",
      "│   ├── *\n",
      "│   │   ├── *\n",
      "│   │   │   ├── 3\n",
      "│   │   │   └── x\n",
      "│   │   └── y\n",
      "│   └── *\n",
      "│       ├── 0.333\n",
      "│       └── ^\n",
      "│           ├── 9\n",
      "│           └── y\n",
      "└── tan\n",
      "    └── 9\n",
      "\n"
     ]
    }
   ],
   "source": [
    "eq = Expression('3xy + 0.333y^9 = tan(9)')\n",
    "\n",
    "eq.print_tree()"
   ]
  },
  {
   "cell_type": "code",
   "execution_count": 18,
   "metadata": {},
   "outputs": [
    {
     "name": "stdout",
     "output_type": "stream",
     "text": [
      "last operation is =(plus(mult(mult(3;x);y);mult(div(1;3);pow(y;9)));tangent(9))\n",
      "\n",
      "=\n",
      "├── +\n",
      "│   ├── *\n",
      "│   │   ├── *\n",
      "│   │   │   ├── 3\n",
      "│   │   │   └── x\n",
      "│   │   └── y\n",
      "│   └── *\n",
      "│       ├── /\n",
      "│       │   ├── 1\n",
      "│       │   └── 3\n",
      "│       └── ^\n",
      "│           ├── 9\n",
      "│           └── y\n",
      "└── tan\n",
      "    └── 9\n",
      "\n"
     ]
    }
   ],
   "source": [
    "eq = Expression('3xy + (1/3)*y^9 = tan(9)')\n",
    "\n",
    "eq.print_tree()"
   ]
  },
  {
   "cell_type": "code",
   "execution_count": 19,
   "metadata": {},
   "outputs": [
    {
     "name": "stdout",
     "output_type": "stream",
     "text": [
      "last operation is *(2;sinus(x))\n",
      "\n",
      "*\n",
      "├── 2\n",
      "└── sin\n",
      "    └── x\n",
      "\n"
     ]
    }
   ],
   "source": [
    "eq = Expression('2(sin(x))')\n",
    "\n",
    "eq.print_tree()"
   ]
  },
  {
   "cell_type": "code",
   "execution_count": 20,
   "metadata": {
    "scrolled": false
   },
   "outputs": [
    {
     "name": "stdout",
     "output_type": "stream",
     "text": [
      "last operation is =(plus(mult(mult(3;sinusususus(x));pow(cosinusinususinusususinusususus(y);2));mult(div(1;3);pow(y;9)));tangent(9))\n",
      "\n",
      "=\n",
      "├── +\n",
      "│   ├── *\n",
      "│   │   ├── *\n",
      "│   │   │   ├── 3\n",
      "│   │   │   └── sin\n",
      "│   │   │       └── x\n",
      "│   │   └── ^\n",
      "│   │       ├── 2\n",
      "│   │       └── cos\n",
      "│   │           └── y\n",
      "│   └── *\n",
      "│       ├── /\n",
      "│       │   ├── 1\n",
      "│       │   └── 3\n",
      "│       └── ^\n",
      "│           ├── 9\n",
      "│           └── y\n",
      "└── tan\n",
      "    └── 9\n",
      "\n"
     ]
    }
   ],
   "source": [
    "eq = Expression('3sin(x)cos(y)^2 + (1/3)y^9 = tan(9)')\n",
    "\n",
    "eq.print_tree()"
   ]
  },
  {
   "cell_type": "code",
   "execution_count": 21,
   "metadata": {},
   "outputs": [
    {
     "name": "stdout",
     "output_type": "stream",
     "text": [
      "last operation is =(plus(mult(3;pow(sinusususus(x);2));mult(0.333;pow(y;9)));tangent(9))\n",
      "\n",
      "=\n",
      "├── +\n",
      "│   ├── *\n",
      "│   │   ├── 3\n",
      "│   │   └── ^\n",
      "│   │       ├── 2\n",
      "│   │       └── sin\n",
      "│   │           └── x\n",
      "│   └── *\n",
      "│       ├── 0.333\n",
      "│       └── ^\n",
      "│           ├── 9\n",
      "│           └── y\n",
      "└── tan\n",
      "    └── 9\n",
      "\n"
     ]
    }
   ],
   "source": [
    "eq = Expression('3sin(x)^2 + 0.333y^9 = tan(9)')\n",
    "\n",
    "eq.print_tree()"
   ]
  },
  {
   "cell_type": "code",
   "execution_count": 22,
   "metadata": {},
   "outputs": [
    {
     "name": "stdout",
     "output_type": "stream",
     "text": [
      "last operation is sin(x)\n",
      "\n",
      "sin\n",
      "└── x\n",
      "\n"
     ]
    }
   ],
   "source": [
    "eq = Expression('(sin(x))')\n",
    "\n",
    "eq.print_tree()"
   ]
  },
  {
   "cell_type": "code",
   "execution_count": 23,
   "metadata": {},
   "outputs": [
    {
     "name": "stdout",
     "output_type": "stream",
     "text": [
      "last operation is =(plus(plus(mult(4;x);5);mult(5;pi));sinus(x))\n",
      "\n",
      "=\n",
      "├── +\n",
      "│   ├── *\n",
      "│   │   ├── 5\n",
      "│   │   └── pi\n",
      "│   └── +\n",
      "│       ├── *\n",
      "│       │   ├── 4\n",
      "│       │   └── x\n",
      "│       └── 5\n",
      "└── sin\n",
      "    └── x\n",
      "\n"
     ]
    }
   ],
   "source": [
    "eq = Expression('(4x+5)+(5pi) = sin(x)')\n",
    "\n",
    "eq.print_tree()"
   ]
  },
  {
   "cell_type": "code",
   "execution_count": 24,
   "metadata": {},
   "outputs": [
    {
     "name": "stdout",
     "output_type": "stream",
     "text": [
      "last operation is *(div(1;4);expon(pow(sinususus(div(mult(x;pi);3;4)))))\n",
      "\n",
      "*\n",
      "├── /\n",
      "│   ├── 1\n",
      "│   └── 4\n",
      "└── exp\n",
      "    └── ^\n",
      "        ├── 4\n",
      "        └── sin\n",
      "            └── /\n",
      "                ├── *\n",
      "                │   ├── pi\n",
      "                │   └── x\n",
      "                └── 3\n",
      "\n"
     ]
    }
   ],
   "source": [
    "eq = Expression('(1/4) exp( sin((x*pi/3))^4  )')\n",
    "\n",
    "eq.print_tree()"
   ]
  },
  {
   "cell_type": "code",
   "execution_count": 25,
   "metadata": {},
   "outputs": [
    {
     "name": "stdout",
     "output_type": "stream",
     "text": [
      "last operation is =(plus(plus(mult(2;pow(x;2));x);1);0)\n",
      "\n",
      "=\n",
      "├── +\n",
      "│   ├── +\n",
      "│   │   ├── *\n",
      "│   │   │   ├── 2\n",
      "│   │   │   └── ^\n",
      "│   │   │       ├── 2\n",
      "│   │   │       └── x\n",
      "│   │   └── x\n",
      "│   └── 1\n",
      "└── 0\n",
      "\n"
     ]
    }
   ],
   "source": [
    "eq = Expression('2x^2 + x + 1 = 0')\n",
    "\n",
    "eq.print_tree()"
   ]
  },
  {
   "cell_type": "code",
   "execution_count": 26,
   "metadata": {},
   "outputs": [],
   "source": [
    "# List of eqs that cause bugs at the moment\n",
    "# exp = Expression('sec(x)^2 + csc(x)^2 - sec(x)^2 csc(x)^2')\n",
    "# eq = Expression('y=-(1/2)x+(pi/4)')"
   ]
  },
  {
   "cell_type": "code",
   "execution_count": null,
   "metadata": {},
   "outputs": [],
   "source": []
  }
 ],
 "metadata": {
  "kernelspec": {
   "display_name": "Python 3 (ipykernel)",
   "language": "python",
   "name": "python3"
  },
  "language_info": {
   "codemirror_mode": {
    "name": "ipython",
    "version": 3
   },
   "file_extension": ".py",
   "mimetype": "text/x-python",
   "name": "python",
   "nbconvert_exporter": "python",
   "pygments_lexer": "ipython3",
   "version": "3.8.10"
  }
 },
 "nbformat": 4,
 "nbformat_minor": 4
}
