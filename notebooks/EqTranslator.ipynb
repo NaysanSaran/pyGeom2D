{
 "cells": [
  {
   "cell_type": "code",
   "execution_count": 32,
   "metadata": {},
   "outputs": [],
   "source": [
    "import sys\n",
    "sys.path.append('/home/naysan/my-notebooks/holidays/winter22-23/eqTranslator')\n",
    "\n",
    "import math\n",
    "import numpy as np\n",
    "\n",
    "from eqTranslator import Expression"
   ]
  },
  {
   "cell_type": "markdown",
   "metadata": {},
   "source": [
    "### Examples"
   ]
  },
  {
   "cell_type": "code",
   "execution_count": 33,
   "metadata": {},
   "outputs": [
    {
     "name": "stdout",
     "output_type": "stream",
     "text": [
      "is constant = True, log = {'a': '3', 'log': 'horizontal line through (0, 3)'}\n",
      "last operation is =(y;3)\n",
      "\n",
      "=\n",
      "├── 3\n",
      "└── y\n",
      "\n"
     ]
    }
   ],
   "source": [
    "eq = Expression('y=3')\n",
    "\n",
    "eq.print_tree()"
   ]
  },
  {
   "cell_type": "code",
   "execution_count": 3,
   "metadata": {},
   "outputs": [
    {
     "name": "stdout",
     "output_type": "stream",
     "text": [
      "last operation is *(sinus(x);pow(sinusus(y);2))\n",
      "\n",
      "[['*', ['sin', x], ['^', ['sin', y], 2]]]\n",
      "\t\tCall sin[x]\n",
      "\t\tCall sin[y]\n",
      "\t\tCall raise_to[sinus(y),2]\n",
      "\t\tCall multiply[sinus(x),pow(sinusus(y);2)]\n",
      "*\n",
      "├── ^\n",
      "│   ├── 2\n",
      "│   └── sin\n",
      "│       └── y\n",
      "└── sin\n",
      "    └── x\n",
      "\n"
     ]
    }
   ],
   "source": [
    "eq = Expression('sin(x)sin(y)^2', verbose=True)\n",
    "\n",
    "eq.print_tree()"
   ]
  },
  {
   "cell_type": "code",
   "execution_count": 4,
   "metadata": {},
   "outputs": [
    {
     "name": "stdout",
     "output_type": "stream",
     "text": [
      "\t\tsin(0.524) = 0.5\n",
      "\t\tsin(1.571) = 1\n",
      "\t\traise_to(1,2) = 1\n",
      "\t\tmultiply(0.5,1) = 0.5\n"
     ]
    },
    {
     "data": {
      "text/plain": [
       "0.5"
      ]
     },
     "execution_count": 4,
     "metadata": {},
     "output_type": "execute_result"
    }
   ],
   "source": [
    "eq.verbose = True\n",
    "eq.evaluate(x=(math.pi/6), y=(math.pi/2))"
   ]
  },
  {
   "cell_type": "code",
   "execution_count": 5,
   "metadata": {},
   "outputs": [
    {
     "name": "stdout",
     "output_type": "stream",
     "text": [
      "last operation is =(plus(mult(2;x);1);0)\n",
      "\n",
      "=\n",
      "├── +\n",
      "│   ├── *\n",
      "│   │   ├── 2\n",
      "│   │   └── x\n",
      "│   └── 1\n",
      "└── 0\n",
      "\n"
     ]
    }
   ],
   "source": [
    "eq = Expression('2x + 1 = 0')\n",
    "\n",
    "eq.print_tree()"
   ]
  },
  {
   "cell_type": "code",
   "execution_count": 6,
   "metadata": {},
   "outputs": [
    {
     "name": "stdout",
     "output_type": "stream",
     "text": [
      "\t\tmultiply(2,0) = 0\n",
      "\t\tadd(0,1) = 1\n",
      "\t\tequal(1,0) = 0\n"
     ]
    },
    {
     "data": {
      "text/plain": [
       "0.0"
      ]
     },
     "execution_count": 6,
     "metadata": {},
     "output_type": "execute_result"
    }
   ],
   "source": [
    "eq.verbose = True\n",
    "eq.evaluate(x=0)"
   ]
  },
  {
   "cell_type": "code",
   "execution_count": 7,
   "metadata": {},
   "outputs": [
    {
     "name": "stdout",
     "output_type": "stream",
     "text": [
      "\t\tmultiply(2,-1/2) = -1\n",
      "\t\tadd(-1,1) = 0\n",
      "\t\tequal(0,0) = 1\n"
     ]
    },
    {
     "data": {
      "text/plain": [
       "1.0"
      ]
     },
     "execution_count": 7,
     "metadata": {},
     "output_type": "execute_result"
    }
   ],
   "source": [
    "eq.evaluate(x=-0.5)"
   ]
  },
  {
   "cell_type": "code",
   "execution_count": 8,
   "metadata": {},
   "outputs": [
    {
     "name": "stdout",
     "output_type": "stream",
     "text": [
      "last operation is =(cosinus(plus(mult(2;x);1));0)\n",
      "\n",
      "=\n",
      "├── 0\n",
      "└── cos\n",
      "    └── +\n",
      "        ├── *\n",
      "        │   ├── 2\n",
      "        │   └── x\n",
      "        └── 1\n",
      "\n"
     ]
    }
   ],
   "source": [
    "eq = Expression('cos(2x + 1) = 0')\n",
    "\n",
    "eq.print_tree()"
   ]
  },
  {
   "cell_type": "code",
   "execution_count": 9,
   "metadata": {},
   "outputs": [
    {
     "name": "stdout",
     "output_type": "stream",
     "text": [
      "\t\tmultiply(2,0) = 0\n",
      "\t\tadd(0,1) = 1\n",
      "\t\tcos(1) = 0.54\n",
      "\t\tequal(0.54,0) = 0\n"
     ]
    },
    {
     "data": {
      "text/plain": [
       "0.0"
      ]
     },
     "execution_count": 9,
     "metadata": {},
     "output_type": "execute_result"
    }
   ],
   "source": [
    "eq.verbose = True\n",
    "eq.evaluate(x=0)"
   ]
  },
  {
   "cell_type": "code",
   "execution_count": 10,
   "metadata": {},
   "outputs": [
    {
     "name": "stdout",
     "output_type": "stream",
     "text": [
      "last operation is =(plus(mult(4;x);mult(5;y));15)\n",
      "\n",
      "=\n",
      "├── +\n",
      "│   ├── *\n",
      "│   │   ├── 4\n",
      "│   │   └── x\n",
      "│   └── *\n",
      "│       ├── 5\n",
      "│       └── y\n",
      "└── 15\n",
      "\n"
     ]
    }
   ],
   "source": [
    "eq = Expression('4x + 5*y=15')\n",
    "\n",
    "eq.print_tree()"
   ]
  },
  {
   "cell_type": "code",
   "execution_count": 11,
   "metadata": {},
   "outputs": [
    {
     "name": "stdout",
     "output_type": "stream",
     "text": [
      "All variables are needed for evaluation: {'x', 'y'}\n"
     ]
    }
   ],
   "source": [
    "eq.evaluate(x=0)"
   ]
  },
  {
   "cell_type": "code",
   "execution_count": 12,
   "metadata": {},
   "outputs": [
    {
     "name": "stdout",
     "output_type": "stream",
     "text": [
      "last operation is +(mult(4;x);mult(5;pi))\n",
      "\n",
      "+\n",
      "├── *\n",
      "│   ├── 4\n",
      "│   └── x\n",
      "└── *\n",
      "    ├── 5\n",
      "    └── pi\n",
      "\n"
     ]
    }
   ],
   "source": [
    "eq = Expression('4x + 5pi')\n",
    "\n",
    "eq.print_tree()"
   ]
  },
  {
   "cell_type": "code",
   "execution_count": 13,
   "metadata": {},
   "outputs": [
    {
     "name": "stdout",
     "output_type": "stream",
     "text": [
      "last operation is =(plus(mult(4;x);mult(5;pi));sinus(x))\n",
      "\n",
      "=\n",
      "├── +\n",
      "│   ├── *\n",
      "│   │   ├── 4\n",
      "│   │   └── x\n",
      "│   └── *\n",
      "│       ├── 5\n",
      "│       └── pi\n",
      "└── sin\n",
      "    └── x\n",
      "\n"
     ]
    }
   ],
   "source": [
    "eq = Expression('4x + 5pi = sin(x)')\n",
    "\n",
    "eq.print_tree()"
   ]
  },
  {
   "cell_type": "code",
   "execution_count": 14,
   "metadata": {},
   "outputs": [
    {
     "name": "stdout",
     "output_type": "stream",
     "text": [
      "last operation is =(plus(mult(3;pow(x;2));mult(5;pi));sinus(x))\n",
      "\n",
      "=\n",
      "├── +\n",
      "│   ├── *\n",
      "│   │   ├── 3\n",
      "│   │   └── ^\n",
      "│   │       ├── 2\n",
      "│   │       └── x\n",
      "│   └── *\n",
      "│       ├── 5\n",
      "│       └── pi\n",
      "└── sin\n",
      "    └── x\n",
      "\n"
     ]
    }
   ],
   "source": [
    "eq = Expression('3x^2 + 5pi = sin(x)')\n",
    "\n",
    "eq.print_tree()"
   ]
  },
  {
   "cell_type": "code",
   "execution_count": 15,
   "metadata": {
    "scrolled": false
   },
   "outputs": [
    {
     "name": "stdout",
     "output_type": "stream",
     "text": [
      "last operation is =(plus(mult(3;pow(x;2));mult(5;pow(y;2)));9)\n",
      "\n",
      "=\n",
      "├── +\n",
      "│   ├── *\n",
      "│   │   ├── 3\n",
      "│   │   └── ^\n",
      "│   │       ├── 2\n",
      "│   │       └── x\n",
      "│   └── *\n",
      "│       ├── 5\n",
      "│       └── ^\n",
      "│           ├── 2\n",
      "│           └── y\n",
      "└── 9\n",
      "\n"
     ]
    }
   ],
   "source": [
    "eq = Expression('3x^2 + 5y^2 = 9')\n",
    "\n",
    "eq.print_tree()"
   ]
  },
  {
   "cell_type": "code",
   "execution_count": 16,
   "metadata": {},
   "outputs": [
    {
     "name": "stdout",
     "output_type": "stream",
     "text": [
      "last operation is =(plus(sinusus(plus(mult(2;x);mult(3;y)));mult(5;pow(y;2)));9)\n",
      "\n",
      "=\n",
      "├── +\n",
      "│   ├── *\n",
      "│   │   ├── 5\n",
      "│   │   └── ^\n",
      "│   │       ├── 2\n",
      "│   │       └── y\n",
      "│   └── sin\n",
      "│       └── +\n",
      "│           ├── *\n",
      "│           │   ├── 2\n",
      "│           │   └── x\n",
      "│           └── *\n",
      "│               ├── 3\n",
      "│               └── y\n",
      "└── 9\n",
      "\n"
     ]
    }
   ],
   "source": [
    "eq = Expression('sin(2x+3y) + 5y^2 = 9')\n",
    "\n",
    "eq.print_tree()"
   ]
  },
  {
   "cell_type": "code",
   "execution_count": 17,
   "metadata": {},
   "outputs": [
    {
     "name": "stdout",
     "output_type": "stream",
     "text": [
      "last operation is =(plus(mult(mult(3;x);y);mult(0.333;pow(y;9)));tangent(9))\n",
      "\n",
      "=\n",
      "├── +\n",
      "│   ├── *\n",
      "│   │   ├── *\n",
      "│   │   │   ├── 3\n",
      "│   │   │   └── x\n",
      "│   │   └── y\n",
      "│   └── *\n",
      "│       ├── 0.333\n",
      "│       └── ^\n",
      "│           ├── 9\n",
      "│           └── y\n",
      "└── tan\n",
      "    └── 9\n",
      "\n"
     ]
    }
   ],
   "source": [
    "eq = Expression('3xy + 0.333y^9 = tan(9)')\n",
    "\n",
    "eq.print_tree()"
   ]
  },
  {
   "cell_type": "code",
   "execution_count": 18,
   "metadata": {},
   "outputs": [
    {
     "name": "stdout",
     "output_type": "stream",
     "text": [
      "last operation is =(plus(mult(mult(3;x);y);mult(div(1;3);pow(y;9)));tangent(9))\n",
      "\n",
      "=\n",
      "├── +\n",
      "│   ├── *\n",
      "│   │   ├── *\n",
      "│   │   │   ├── 3\n",
      "│   │   │   └── x\n",
      "│   │   └── y\n",
      "│   └── *\n",
      "│       ├── /\n",
      "│       │   ├── 1\n",
      "│       │   └── 3\n",
      "│       └── ^\n",
      "│           ├── 9\n",
      "│           └── y\n",
      "└── tan\n",
      "    └── 9\n",
      "\n"
     ]
    }
   ],
   "source": [
    "eq = Expression('3xy + (1/3)*y^9 = tan(9)')\n",
    "\n",
    "eq.print_tree()"
   ]
  },
  {
   "cell_type": "code",
   "execution_count": 19,
   "metadata": {},
   "outputs": [
    {
     "name": "stdout",
     "output_type": "stream",
     "text": [
      "last operation is *(2;sinus(x))\n",
      "\n",
      "*\n",
      "├── 2\n",
      "└── sin\n",
      "    └── x\n",
      "\n"
     ]
    }
   ],
   "source": [
    "eq = Expression('2(sin(x))')\n",
    "\n",
    "eq.print_tree()"
   ]
  },
  {
   "cell_type": "code",
   "execution_count": 20,
   "metadata": {
    "scrolled": false
   },
   "outputs": [
    {
     "name": "stdout",
     "output_type": "stream",
     "text": [
      "last operation is =(plus(mult(mult(3;sinusususus(x));pow(cosinusinususinusususinusususus(y);2));mult(div(1;3);pow(y;9)));tangent(9))\n",
      "\n",
      "=\n",
      "├── +\n",
      "│   ├── *\n",
      "│   │   ├── *\n",
      "│   │   │   ├── 3\n",
      "│   │   │   └── sin\n",
      "│   │   │       └── x\n",
      "│   │   └── ^\n",
      "│   │       ├── 2\n",
      "│   │       └── cos\n",
      "│   │           └── y\n",
      "│   └── *\n",
      "│       ├── /\n",
      "│       │   ├── 1\n",
      "│       │   └── 3\n",
      "│       └── ^\n",
      "│           ├── 9\n",
      "│           └── y\n",
      "└── tan\n",
      "    └── 9\n",
      "\n"
     ]
    }
   ],
   "source": [
    "eq = Expression('3sin(x)cos(y)^2 + (1/3)y^9 = tan(9)')\n",
    "\n",
    "eq.print_tree()"
   ]
  },
  {
   "cell_type": "code",
   "execution_count": 31,
   "metadata": {},
   "outputs": [
    {
     "name": "stdout",
     "output_type": "stream",
     "text": [
      "last operation is =(plus(mult(3;pow(sinusususus(x);2));mult(0.333;pow(y;9)));tangent(9))\n",
      "\n",
      "[['=', ['+', ['*', 3, ['^', ['sin', x], 2]], ['*', 0.333, ['^', y, 9]]], ['tan', 9]]]\n",
      "\t\tCall raise_to[y,9]\n",
      "\t\tCall sin[x]\n",
      "\t\tCall tan[9]\n",
      "\t\tCall raise_to[sinus(x),2]\n",
      "\t\tCall multiply[0.333,pow(y;9)]\n",
      "\t\tCall multiply[3,pow(sinusus(x);2)]\n",
      "\t\tCall add[mult(3;pow(sinususus(x);2)),mult(0.333;pow(y;9))]\n",
      "\t\tCall equal[plus(mult(3;pow(sinusususus(x);2));mult(0.333;pow(y;9))),tangent(9)]\n",
      "=\n",
      "├── +\n",
      "│   ├── *\n",
      "│   │   ├── 3\n",
      "│   │   └── ^\n",
      "│   │       ├── 2\n",
      "│   │       └── sin\n",
      "│   │           └── x\n",
      "│   └── *\n",
      "│       ├── 0.333\n",
      "│       └── ^\n",
      "│           ├── 9\n",
      "│           └── y\n",
      "└── tan\n",
      "    └── 9\n",
      "\n"
     ]
    }
   ],
   "source": [
    "eq = Expression('3sin(x)^2 + 0.333y^9 = tan(9)', verbose=True)\n",
    "\n",
    "eq.print_tree()"
   ]
  },
  {
   "cell_type": "code",
   "execution_count": 22,
   "metadata": {},
   "outputs": [
    {
     "name": "stdout",
     "output_type": "stream",
     "text": [
      "last operation is sin(x)\n",
      "\n",
      "sin\n",
      "└── x\n",
      "\n"
     ]
    }
   ],
   "source": [
    "eq = Expression('(sin(x))')\n",
    "\n",
    "eq.print_tree()"
   ]
  },
  {
   "cell_type": "code",
   "execution_count": 23,
   "metadata": {},
   "outputs": [
    {
     "name": "stdout",
     "output_type": "stream",
     "text": [
      "last operation is =(plus(plus(mult(4;x);5);mult(5;pi));sinus(x))\n",
      "\n",
      "=\n",
      "├── +\n",
      "│   ├── *\n",
      "│   │   ├── 5\n",
      "│   │   └── pi\n",
      "│   └── +\n",
      "│       ├── *\n",
      "│       │   ├── 4\n",
      "│       │   └── x\n",
      "│       └── 5\n",
      "└── sin\n",
      "    └── x\n",
      "\n"
     ]
    }
   ],
   "source": [
    "eq = Expression('(4x+5)+(5pi) = sin(x)')\n",
    "\n",
    "eq.print_tree()"
   ]
  },
  {
   "cell_type": "code",
   "execution_count": 24,
   "metadata": {},
   "outputs": [
    {
     "name": "stdout",
     "output_type": "stream",
     "text": [
      "last operation is *(div(1;4);expon(pow(sinususus(div(mult(x;pi);3;4)))))\n",
      "\n",
      "*\n",
      "├── /\n",
      "│   ├── 1\n",
      "│   └── 4\n",
      "└── exp\n",
      "    └── ^\n",
      "        ├── 4\n",
      "        └── sin\n",
      "            └── /\n",
      "                ├── *\n",
      "                │   ├── pi\n",
      "                │   └── x\n",
      "                └── 3\n",
      "\n"
     ]
    }
   ],
   "source": [
    "eq = Expression('(1/4) exp( sin((x*pi/3))^4  )')\n",
    "\n",
    "eq.print_tree()"
   ]
  },
  {
   "cell_type": "code",
   "execution_count": 25,
   "metadata": {},
   "outputs": [
    {
     "name": "stdout",
     "output_type": "stream",
     "text": [
      "last operation is =(plus(plus(mult(2;pow(x;2));x);1);0)\n",
      "\n",
      "=\n",
      "├── +\n",
      "│   ├── +\n",
      "│   │   ├── *\n",
      "│   │   │   ├── 2\n",
      "│   │   │   └── ^\n",
      "│   │   │       ├── 2\n",
      "│   │   │       └── x\n",
      "│   │   └── x\n",
      "│   └── 1\n",
      "└── 0\n",
      "\n"
     ]
    }
   ],
   "source": [
    "eq = Expression('2x^2 + x + 1 = 0')\n",
    "\n",
    "eq.print_tree()"
   ]
  },
  {
   "cell_type": "code",
   "execution_count": 26,
   "metadata": {},
   "outputs": [
    {
     "name": "stdout",
     "output_type": "stream",
     "text": [
      "last operation is sin(minus(0;x))\n",
      "\n",
      "sin\n",
      "└── -\n",
      "    ├── 0\n",
      "    └── x\n",
      "\n"
     ]
    }
   ],
   "source": [
    "eq = Expression('sin(-x)')\n",
    "\n",
    "eq.print_tree()"
   ]
  },
  {
   "cell_type": "code",
   "execution_count": 27,
   "metadata": {},
   "outputs": [
    {
     "data": {
      "text/plain": [
       "-1.0"
      ]
     },
     "execution_count": 27,
     "metadata": {},
     "output_type": "execute_result"
    }
   ],
   "source": [
    "eq.evaluate(x=math.pi/2)"
   ]
  },
  {
   "cell_type": "code",
   "execution_count": 28,
   "metadata": {},
   "outputs": [
    {
     "name": "stdout",
     "output_type": "stream",
     "text": [
      "last operation is -(0;mult(2;sinusus(minus(0;x))))\n",
      "\n",
      "-\n",
      "├── *\n",
      "│   ├── 2\n",
      "│   └── sin\n",
      "│       └── -\n",
      "│           ├── 0\n",
      "│           └── x\n",
      "└── 0\n",
      "\n"
     ]
    }
   ],
   "source": [
    "eq = Expression('-2sin(-x)')\n",
    "\n",
    "eq.print_tree()"
   ]
  },
  {
   "cell_type": "code",
   "execution_count": 29,
   "metadata": {},
   "outputs": [],
   "source": [
    "# List of eqs that cause bugs at the moment\n",
    "# exp = Expression('sec(x)^2 + csc(x)^2 - sec(x)^2 csc(x)^2')"
   ]
  },
  {
   "cell_type": "code",
   "execution_count": 30,
   "metadata": {},
   "outputs": [
    {
     "data": {
      "text/plain": [
       "'(0-x)'"
      ]
     },
     "execution_count": 30,
     "metadata": {},
     "output_type": "execute_result"
    }
   ],
   "source": [
    "import re\n",
    "\n",
    "eq = '(-x)'\n",
    "re.sub(r'\\(-([x-z])', r'(0-\\1', eq)"
   ]
  },
  {
   "cell_type": "code",
   "execution_count": null,
   "metadata": {},
   "outputs": [],
   "source": []
  }
 ],
 "metadata": {
  "kernelspec": {
   "display_name": "Python 3 (ipykernel)",
   "language": "python",
   "name": "python3"
  },
  "language_info": {
   "codemirror_mode": {
    "name": "ipython",
    "version": 3
   },
   "file_extension": ".py",
   "mimetype": "text/x-python",
   "name": "python",
   "nbconvert_exporter": "python",
   "pygments_lexer": "ipython3",
   "version": "3.8.10"
  }
 },
 "nbformat": 4,
 "nbformat_minor": 4
}
